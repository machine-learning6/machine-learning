{
 "cells": [
  {
   "cell_type": "markdown",
   "metadata": {},
   "source": [
    "<h1 align=\"center\">Machine Learning</h1><h2 align=\"center\" style=\"margin:10px\">Assignment 3</h2>"
   ]
  },
  {
   "cell_type": "code",
   "execution_count": 2,
   "metadata": {},
   "outputs": [],
   "source": [
    "# Student names and numbers:\n",
    "# Rokas Barasa - 285047"
   ]
  },
  {
   "cell_type": "markdown",
   "metadata": {},
   "source": [
    "The assignments below should be solved and documented as a mini-project that will form the basis for the\n",
    "examination. When solving the exercises it is important that you\n",
    "\n",
    "  * document all relevant results and analyses that you have obtained/performed during the exercises\n",
    "  * try to relate your results to the theoretical background of the methods being applied.\n",
    "\n",
    "Feel free to add cells if you need to. The easiest way to convert to pdf is to save this notebook as .html (File-->Download as-->HTML) and then convert this html file to pdf. You can also export as pdf directly, but here you need to watch your margins as the converter will cut off your code (i.e. make vertical code!).\n",
    "\n",
    "Last, but not least:\n",
    "* Looking for an overview of the markdown language? The cheat sheet <a href=\"https://medium.com/ibm-data-science-experience/markdown-for-jupyter-notebooks-cheatsheet-386c05aeebed\">here</a> might help.\n",
    "* For the Python specific components of the exercises, you should not need constructs beyond those that are already included in the notebooks on the course's web-page (still you should not feel constrained by these, so feel free to be adventurous). You may, however, need to consult the documentation for some of the methods supplied by `sklearn`."
   ]
  },
  {
   "cell_type": "code",
   "execution_count": 3,
   "metadata": {},
   "outputs": [],
   "source": [
    "# Import all necessary libraries here\n",
    "import pandas as pd\n",
    "import numpy as np\n",
    "import matplotlib.pyplot as plt\n",
    "from IPython.display import display\n",
    "\n",
    "from sklearn.preprocessing import scale \n",
    "from sklearn.model_selection import train_test_split\n",
    "from sklearn.linear_model import LinearRegression, Ridge, RidgeCV, Lasso, LassoCV\n",
    "from sklearn.neighbors import KNeighborsRegressor\n",
    "from sklearn.preprocessing import StandardScaler\n",
    "from sklearn.decomposition import PCA\n"
   ]
  },
  {
   "cell_type": "markdown",
   "metadata": {},
   "source": [
    "# Exercise 1: Regression"
   ]
  },
  {
   "cell_type": "markdown",
   "metadata": {},
   "source": [
    "For this exercise we will be using the famous nycflights13 data which contains the `airlines`, `airports`, `flights`, `planes`, and `weather` datasets. Please see the documentation (`nycflights13.pdf`) for further information."
   ]
  },
  {
   "cell_type": "markdown",
   "metadata": {},
   "source": [
    "**a)** Load all files as pandas dataframes and display the first 5 rows of each dataset."
   ]
  },
  {
   "cell_type": "code",
   "execution_count": 4,
   "metadata": {},
   "outputs": [
    {
     "data": {
      "text/plain": [
       "'flights'"
      ]
     },
     "metadata": {},
     "output_type": "display_data"
    },
    {
     "data": {
      "text/html": [
       "<div>\n",
       "<style scoped>\n",
       "    .dataframe tbody tr th:only-of-type {\n",
       "        vertical-align: middle;\n",
       "    }\n",
       "\n",
       "    .dataframe tbody tr th {\n",
       "        vertical-align: top;\n",
       "    }\n",
       "\n",
       "    .dataframe thead th {\n",
       "        text-align: right;\n",
       "    }\n",
       "</style>\n",
       "<table border=\"1\" class=\"dataframe\">\n",
       "  <thead>\n",
       "    <tr style=\"text-align: right;\">\n",
       "      <th></th>\n",
       "      <th>year</th>\n",
       "      <th>month</th>\n",
       "      <th>day</th>\n",
       "      <th>dep_time</th>\n",
       "      <th>dep_delay</th>\n",
       "      <th>arr_time</th>\n",
       "      <th>arr_delay</th>\n",
       "      <th>carrier</th>\n",
       "      <th>tailnum</th>\n",
       "      <th>flight</th>\n",
       "      <th>origin</th>\n",
       "      <th>dest</th>\n",
       "      <th>air_time</th>\n",
       "      <th>distance</th>\n",
       "      <th>hour</th>\n",
       "      <th>minute</th>\n",
       "    </tr>\n",
       "  </thead>\n",
       "  <tbody>\n",
       "    <tr>\n",
       "      <th>0</th>\n",
       "      <td>2013</td>\n",
       "      <td>1</td>\n",
       "      <td>1</td>\n",
       "      <td>517.0</td>\n",
       "      <td>2.0</td>\n",
       "      <td>830.0</td>\n",
       "      <td>11.0</td>\n",
       "      <td>UA</td>\n",
       "      <td>N14228</td>\n",
       "      <td>1545</td>\n",
       "      <td>EWR</td>\n",
       "      <td>IAH</td>\n",
       "      <td>227.0</td>\n",
       "      <td>1400</td>\n",
       "      <td>5.0</td>\n",
       "      <td>17.0</td>\n",
       "    </tr>\n",
       "    <tr>\n",
       "      <th>1</th>\n",
       "      <td>2013</td>\n",
       "      <td>1</td>\n",
       "      <td>1</td>\n",
       "      <td>533.0</td>\n",
       "      <td>4.0</td>\n",
       "      <td>850.0</td>\n",
       "      <td>20.0</td>\n",
       "      <td>UA</td>\n",
       "      <td>N24211</td>\n",
       "      <td>1714</td>\n",
       "      <td>LGA</td>\n",
       "      <td>IAH</td>\n",
       "      <td>227.0</td>\n",
       "      <td>1416</td>\n",
       "      <td>5.0</td>\n",
       "      <td>33.0</td>\n",
       "    </tr>\n",
       "    <tr>\n",
       "      <th>2</th>\n",
       "      <td>2013</td>\n",
       "      <td>1</td>\n",
       "      <td>1</td>\n",
       "      <td>542.0</td>\n",
       "      <td>2.0</td>\n",
       "      <td>923.0</td>\n",
       "      <td>33.0</td>\n",
       "      <td>AA</td>\n",
       "      <td>N619AA</td>\n",
       "      <td>1141</td>\n",
       "      <td>JFK</td>\n",
       "      <td>MIA</td>\n",
       "      <td>160.0</td>\n",
       "      <td>1089</td>\n",
       "      <td>5.0</td>\n",
       "      <td>42.0</td>\n",
       "    </tr>\n",
       "    <tr>\n",
       "      <th>3</th>\n",
       "      <td>2013</td>\n",
       "      <td>1</td>\n",
       "      <td>1</td>\n",
       "      <td>554.0</td>\n",
       "      <td>-6.0</td>\n",
       "      <td>812.0</td>\n",
       "      <td>-25.0</td>\n",
       "      <td>DL</td>\n",
       "      <td>N668DN</td>\n",
       "      <td>461</td>\n",
       "      <td>LGA</td>\n",
       "      <td>ATL</td>\n",
       "      <td>116.0</td>\n",
       "      <td>762</td>\n",
       "      <td>5.0</td>\n",
       "      <td>54.0</td>\n",
       "    </tr>\n",
       "    <tr>\n",
       "      <th>4</th>\n",
       "      <td>2013</td>\n",
       "      <td>1</td>\n",
       "      <td>1</td>\n",
       "      <td>554.0</td>\n",
       "      <td>-4.0</td>\n",
       "      <td>740.0</td>\n",
       "      <td>12.0</td>\n",
       "      <td>UA</td>\n",
       "      <td>N39463</td>\n",
       "      <td>1696</td>\n",
       "      <td>EWR</td>\n",
       "      <td>ORD</td>\n",
       "      <td>150.0</td>\n",
       "      <td>719</td>\n",
       "      <td>5.0</td>\n",
       "      <td>54.0</td>\n",
       "    </tr>\n",
       "  </tbody>\n",
       "</table>\n",
       "</div>"
      ],
      "text/plain": [
       "   year  month  day  dep_time  dep_delay  arr_time  arr_delay carrier tailnum  \\\n",
       "0  2013      1    1     517.0        2.0     830.0       11.0      UA  N14228   \n",
       "1  2013      1    1     533.0        4.0     850.0       20.0      UA  N24211   \n",
       "2  2013      1    1     542.0        2.0     923.0       33.0      AA  N619AA   \n",
       "3  2013      1    1     554.0       -6.0     812.0      -25.0      DL  N668DN   \n",
       "4  2013      1    1     554.0       -4.0     740.0       12.0      UA  N39463   \n",
       "\n",
       "   flight origin dest  air_time  distance  hour  minute  \n",
       "0    1545    EWR  IAH     227.0      1400   5.0    17.0  \n",
       "1    1714    LGA  IAH     227.0      1416   5.0    33.0  \n",
       "2    1141    JFK  MIA     160.0      1089   5.0    42.0  \n",
       "3     461    LGA  ATL     116.0       762   5.0    54.0  \n",
       "4    1696    EWR  ORD     150.0       719   5.0    54.0  "
      ]
     },
     "metadata": {},
     "output_type": "display_data"
    },
    {
     "data": {
      "text/plain": [
       "'airlines'"
      ]
     },
     "metadata": {},
     "output_type": "display_data"
    },
    {
     "data": {
      "text/html": [
       "<div>\n",
       "<style scoped>\n",
       "    .dataframe tbody tr th:only-of-type {\n",
       "        vertical-align: middle;\n",
       "    }\n",
       "\n",
       "    .dataframe tbody tr th {\n",
       "        vertical-align: top;\n",
       "    }\n",
       "\n",
       "    .dataframe thead th {\n",
       "        text-align: right;\n",
       "    }\n",
       "</style>\n",
       "<table border=\"1\" class=\"dataframe\">\n",
       "  <thead>\n",
       "    <tr style=\"text-align: right;\">\n",
       "      <th></th>\n",
       "      <th>carrier</th>\n",
       "      <th>name</th>\n",
       "    </tr>\n",
       "  </thead>\n",
       "  <tbody>\n",
       "    <tr>\n",
       "      <th>0</th>\n",
       "      <td>9E</td>\n",
       "      <td>Endeavor Air Inc.</td>\n",
       "    </tr>\n",
       "    <tr>\n",
       "      <th>1</th>\n",
       "      <td>AA</td>\n",
       "      <td>American Airlines Inc.</td>\n",
       "    </tr>\n",
       "    <tr>\n",
       "      <th>2</th>\n",
       "      <td>AS</td>\n",
       "      <td>Alaska Airlines Inc.</td>\n",
       "    </tr>\n",
       "    <tr>\n",
       "      <th>3</th>\n",
       "      <td>B6</td>\n",
       "      <td>JetBlue Airways</td>\n",
       "    </tr>\n",
       "    <tr>\n",
       "      <th>4</th>\n",
       "      <td>DL</td>\n",
       "      <td>Delta Air Lines Inc.</td>\n",
       "    </tr>\n",
       "  </tbody>\n",
       "</table>\n",
       "</div>"
      ],
      "text/plain": [
       "  carrier                    name\n",
       "0      9E       Endeavor Air Inc.\n",
       "1      AA  American Airlines Inc.\n",
       "2      AS    Alaska Airlines Inc.\n",
       "3      B6         JetBlue Airways\n",
       "4      DL    Delta Air Lines Inc."
      ]
     },
     "metadata": {},
     "output_type": "display_data"
    },
    {
     "data": {
      "text/plain": [
       "'airports'"
      ]
     },
     "metadata": {},
     "output_type": "display_data"
    },
    {
     "data": {
      "text/html": [
       "<div>\n",
       "<style scoped>\n",
       "    .dataframe tbody tr th:only-of-type {\n",
       "        vertical-align: middle;\n",
       "    }\n",
       "\n",
       "    .dataframe tbody tr th {\n",
       "        vertical-align: top;\n",
       "    }\n",
       "\n",
       "    .dataframe thead th {\n",
       "        text-align: right;\n",
       "    }\n",
       "</style>\n",
       "<table border=\"1\" class=\"dataframe\">\n",
       "  <thead>\n",
       "    <tr style=\"text-align: right;\">\n",
       "      <th></th>\n",
       "      <th>faa</th>\n",
       "      <th>name</th>\n",
       "      <th>lat</th>\n",
       "      <th>lon</th>\n",
       "      <th>alt</th>\n",
       "      <th>tz</th>\n",
       "      <th>dst</th>\n",
       "      <th>tzone</th>\n",
       "    </tr>\n",
       "  </thead>\n",
       "  <tbody>\n",
       "    <tr>\n",
       "      <th>0</th>\n",
       "      <td>04G</td>\n",
       "      <td>Lansdowne Airport</td>\n",
       "      <td>41.130472</td>\n",
       "      <td>-80.619583</td>\n",
       "      <td>1044</td>\n",
       "      <td>-5.0</td>\n",
       "      <td>A</td>\n",
       "      <td>America/New_York</td>\n",
       "    </tr>\n",
       "    <tr>\n",
       "      <th>1</th>\n",
       "      <td>06A</td>\n",
       "      <td>Moton Field Municipal Airport</td>\n",
       "      <td>32.460572</td>\n",
       "      <td>-85.680028</td>\n",
       "      <td>264</td>\n",
       "      <td>-6.0</td>\n",
       "      <td>A</td>\n",
       "      <td>America/Chicago</td>\n",
       "    </tr>\n",
       "    <tr>\n",
       "      <th>2</th>\n",
       "      <td>06C</td>\n",
       "      <td>Schaumburg Regional</td>\n",
       "      <td>41.989341</td>\n",
       "      <td>-88.101243</td>\n",
       "      <td>801</td>\n",
       "      <td>-6.0</td>\n",
       "      <td>A</td>\n",
       "      <td>America/Chicago</td>\n",
       "    </tr>\n",
       "    <tr>\n",
       "      <th>3</th>\n",
       "      <td>06N</td>\n",
       "      <td>Randall Airport</td>\n",
       "      <td>41.431912</td>\n",
       "      <td>-74.391561</td>\n",
       "      <td>523</td>\n",
       "      <td>-5.0</td>\n",
       "      <td>A</td>\n",
       "      <td>America/New_York</td>\n",
       "    </tr>\n",
       "    <tr>\n",
       "      <th>4</th>\n",
       "      <td>09J</td>\n",
       "      <td>Jekyll Island Airport</td>\n",
       "      <td>31.074472</td>\n",
       "      <td>-81.427778</td>\n",
       "      <td>11</td>\n",
       "      <td>-5.0</td>\n",
       "      <td>A</td>\n",
       "      <td>America/New_York</td>\n",
       "    </tr>\n",
       "  </tbody>\n",
       "</table>\n",
       "</div>"
      ],
      "text/plain": [
       "   faa                           name        lat        lon   alt   tz dst  \\\n",
       "0  04G              Lansdowne Airport  41.130472 -80.619583  1044 -5.0   A   \n",
       "1  06A  Moton Field Municipal Airport  32.460572 -85.680028   264 -6.0   A   \n",
       "2  06C            Schaumburg Regional  41.989341 -88.101243   801 -6.0   A   \n",
       "3  06N                Randall Airport  41.431912 -74.391561   523 -5.0   A   \n",
       "4  09J          Jekyll Island Airport  31.074472 -81.427778    11 -5.0   A   \n",
       "\n",
       "              tzone  \n",
       "0  America/New_York  \n",
       "1   America/Chicago  \n",
       "2   America/Chicago  \n",
       "3  America/New_York  \n",
       "4  America/New_York  "
      ]
     },
     "metadata": {},
     "output_type": "display_data"
    },
    {
     "data": {
      "text/plain": [
       "'planes'"
      ]
     },
     "metadata": {},
     "output_type": "display_data"
    },
    {
     "data": {
      "text/html": [
       "<div>\n",
       "<style scoped>\n",
       "    .dataframe tbody tr th:only-of-type {\n",
       "        vertical-align: middle;\n",
       "    }\n",
       "\n",
       "    .dataframe tbody tr th {\n",
       "        vertical-align: top;\n",
       "    }\n",
       "\n",
       "    .dataframe thead th {\n",
       "        text-align: right;\n",
       "    }\n",
       "</style>\n",
       "<table border=\"1\" class=\"dataframe\">\n",
       "  <thead>\n",
       "    <tr style=\"text-align: right;\">\n",
       "      <th></th>\n",
       "      <th>tailnum</th>\n",
       "      <th>year</th>\n",
       "      <th>type</th>\n",
       "      <th>manufacturer</th>\n",
       "      <th>model</th>\n",
       "      <th>engines</th>\n",
       "      <th>seats</th>\n",
       "      <th>speed</th>\n",
       "      <th>engine</th>\n",
       "    </tr>\n",
       "  </thead>\n",
       "  <tbody>\n",
       "    <tr>\n",
       "      <th>0</th>\n",
       "      <td>N10156</td>\n",
       "      <td>2004.0</td>\n",
       "      <td>Fixed wing multi engine</td>\n",
       "      <td>EMBRAER</td>\n",
       "      <td>EMB-145XR</td>\n",
       "      <td>2</td>\n",
       "      <td>55</td>\n",
       "      <td>NaN</td>\n",
       "      <td>Turbo-fan</td>\n",
       "    </tr>\n",
       "    <tr>\n",
       "      <th>1</th>\n",
       "      <td>N102UW</td>\n",
       "      <td>1998.0</td>\n",
       "      <td>Fixed wing multi engine</td>\n",
       "      <td>AIRBUS INDUSTRIE</td>\n",
       "      <td>A320-214</td>\n",
       "      <td>2</td>\n",
       "      <td>182</td>\n",
       "      <td>NaN</td>\n",
       "      <td>Turbo-fan</td>\n",
       "    </tr>\n",
       "    <tr>\n",
       "      <th>2</th>\n",
       "      <td>N103US</td>\n",
       "      <td>1999.0</td>\n",
       "      <td>Fixed wing multi engine</td>\n",
       "      <td>AIRBUS INDUSTRIE</td>\n",
       "      <td>A320-214</td>\n",
       "      <td>2</td>\n",
       "      <td>182</td>\n",
       "      <td>NaN</td>\n",
       "      <td>Turbo-fan</td>\n",
       "    </tr>\n",
       "    <tr>\n",
       "      <th>3</th>\n",
       "      <td>N104UW</td>\n",
       "      <td>1999.0</td>\n",
       "      <td>Fixed wing multi engine</td>\n",
       "      <td>AIRBUS INDUSTRIE</td>\n",
       "      <td>A320-214</td>\n",
       "      <td>2</td>\n",
       "      <td>182</td>\n",
       "      <td>NaN</td>\n",
       "      <td>Turbo-fan</td>\n",
       "    </tr>\n",
       "    <tr>\n",
       "      <th>4</th>\n",
       "      <td>N10575</td>\n",
       "      <td>2002.0</td>\n",
       "      <td>Fixed wing multi engine</td>\n",
       "      <td>EMBRAER</td>\n",
       "      <td>EMB-145LR</td>\n",
       "      <td>2</td>\n",
       "      <td>55</td>\n",
       "      <td>NaN</td>\n",
       "      <td>Turbo-fan</td>\n",
       "    </tr>\n",
       "  </tbody>\n",
       "</table>\n",
       "</div>"
      ],
      "text/plain": [
       "  tailnum    year                     type      manufacturer      model  \\\n",
       "0  N10156  2004.0  Fixed wing multi engine           EMBRAER  EMB-145XR   \n",
       "1  N102UW  1998.0  Fixed wing multi engine  AIRBUS INDUSTRIE   A320-214   \n",
       "2  N103US  1999.0  Fixed wing multi engine  AIRBUS INDUSTRIE   A320-214   \n",
       "3  N104UW  1999.0  Fixed wing multi engine  AIRBUS INDUSTRIE   A320-214   \n",
       "4  N10575  2002.0  Fixed wing multi engine           EMBRAER  EMB-145LR   \n",
       "\n",
       "   engines  seats  speed     engine  \n",
       "0        2     55    NaN  Turbo-fan  \n",
       "1        2    182    NaN  Turbo-fan  \n",
       "2        2    182    NaN  Turbo-fan  \n",
       "3        2    182    NaN  Turbo-fan  \n",
       "4        2     55    NaN  Turbo-fan  "
      ]
     },
     "metadata": {},
     "output_type": "display_data"
    },
    {
     "data": {
      "text/plain": [
       "'weather'"
      ]
     },
     "metadata": {},
     "output_type": "display_data"
    },
    {
     "data": {
      "text/html": [
       "<div>\n",
       "<style scoped>\n",
       "    .dataframe tbody tr th:only-of-type {\n",
       "        vertical-align: middle;\n",
       "    }\n",
       "\n",
       "    .dataframe tbody tr th {\n",
       "        vertical-align: top;\n",
       "    }\n",
       "\n",
       "    .dataframe thead th {\n",
       "        text-align: right;\n",
       "    }\n",
       "</style>\n",
       "<table border=\"1\" class=\"dataframe\">\n",
       "  <thead>\n",
       "    <tr style=\"text-align: right;\">\n",
       "      <th></th>\n",
       "      <th>origin</th>\n",
       "      <th>year</th>\n",
       "      <th>month</th>\n",
       "      <th>day</th>\n",
       "      <th>hour</th>\n",
       "      <th>temp</th>\n",
       "      <th>dewp</th>\n",
       "      <th>humid</th>\n",
       "      <th>wind_dir</th>\n",
       "      <th>wind_speed</th>\n",
       "      <th>wind_gust</th>\n",
       "      <th>precip</th>\n",
       "      <th>pressure</th>\n",
       "      <th>visib</th>\n",
       "      <th>time_hour</th>\n",
       "    </tr>\n",
       "  </thead>\n",
       "  <tbody>\n",
       "    <tr>\n",
       "      <th>0</th>\n",
       "      <td>EWR</td>\n",
       "      <td>2013</td>\n",
       "      <td>1</td>\n",
       "      <td>1</td>\n",
       "      <td>0</td>\n",
       "      <td>37.04</td>\n",
       "      <td>21.92</td>\n",
       "      <td>53.97</td>\n",
       "      <td>230.0</td>\n",
       "      <td>10.35702</td>\n",
       "      <td>11.918651</td>\n",
       "      <td>0.0</td>\n",
       "      <td>1013.9</td>\n",
       "      <td>10.0</td>\n",
       "      <td>2013-01-01T00:00:00Z</td>\n",
       "    </tr>\n",
       "    <tr>\n",
       "      <th>1</th>\n",
       "      <td>EWR</td>\n",
       "      <td>2013</td>\n",
       "      <td>1</td>\n",
       "      <td>1</td>\n",
       "      <td>1</td>\n",
       "      <td>37.04</td>\n",
       "      <td>21.92</td>\n",
       "      <td>53.97</td>\n",
       "      <td>230.0</td>\n",
       "      <td>13.80936</td>\n",
       "      <td>15.891535</td>\n",
       "      <td>0.0</td>\n",
       "      <td>1013.0</td>\n",
       "      <td>10.0</td>\n",
       "      <td>2013-01-01T01:00:00Z</td>\n",
       "    </tr>\n",
       "    <tr>\n",
       "      <th>2</th>\n",
       "      <td>EWR</td>\n",
       "      <td>2013</td>\n",
       "      <td>1</td>\n",
       "      <td>1</td>\n",
       "      <td>2</td>\n",
       "      <td>37.94</td>\n",
       "      <td>21.92</td>\n",
       "      <td>52.09</td>\n",
       "      <td>230.0</td>\n",
       "      <td>12.65858</td>\n",
       "      <td>14.567241</td>\n",
       "      <td>0.0</td>\n",
       "      <td>1012.6</td>\n",
       "      <td>10.0</td>\n",
       "      <td>2013-01-01T02:00:00Z</td>\n",
       "    </tr>\n",
       "    <tr>\n",
       "      <th>3</th>\n",
       "      <td>EWR</td>\n",
       "      <td>2013</td>\n",
       "      <td>1</td>\n",
       "      <td>1</td>\n",
       "      <td>3</td>\n",
       "      <td>37.94</td>\n",
       "      <td>23.00</td>\n",
       "      <td>54.51</td>\n",
       "      <td>230.0</td>\n",
       "      <td>13.80936</td>\n",
       "      <td>15.891535</td>\n",
       "      <td>0.0</td>\n",
       "      <td>1012.7</td>\n",
       "      <td>10.0</td>\n",
       "      <td>2013-01-01T03:00:00Z</td>\n",
       "    </tr>\n",
       "    <tr>\n",
       "      <th>4</th>\n",
       "      <td>EWR</td>\n",
       "      <td>2013</td>\n",
       "      <td>1</td>\n",
       "      <td>1</td>\n",
       "      <td>4</td>\n",
       "      <td>37.94</td>\n",
       "      <td>24.08</td>\n",
       "      <td>57.04</td>\n",
       "      <td>240.0</td>\n",
       "      <td>14.96014</td>\n",
       "      <td>17.215830</td>\n",
       "      <td>0.0</td>\n",
       "      <td>1012.8</td>\n",
       "      <td>10.0</td>\n",
       "      <td>2013-01-01T04:00:00Z</td>\n",
       "    </tr>\n",
       "  </tbody>\n",
       "</table>\n",
       "</div>"
      ],
      "text/plain": [
       "  origin  year  month  day  hour   temp   dewp  humid  wind_dir  wind_speed  \\\n",
       "0    EWR  2013      1    1     0  37.04  21.92  53.97     230.0    10.35702   \n",
       "1    EWR  2013      1    1     1  37.04  21.92  53.97     230.0    13.80936   \n",
       "2    EWR  2013      1    1     2  37.94  21.92  52.09     230.0    12.65858   \n",
       "3    EWR  2013      1    1     3  37.94  23.00  54.51     230.0    13.80936   \n",
       "4    EWR  2013      1    1     4  37.94  24.08  57.04     240.0    14.96014   \n",
       "\n",
       "   wind_gust  precip  pressure  visib             time_hour  \n",
       "0  11.918651     0.0    1013.9   10.0  2013-01-01T00:00:00Z  \n",
       "1  15.891535     0.0    1013.0   10.0  2013-01-01T01:00:00Z  \n",
       "2  14.567241     0.0    1012.6   10.0  2013-01-01T02:00:00Z  \n",
       "3  15.891535     0.0    1012.7   10.0  2013-01-01T03:00:00Z  \n",
       "4  17.215830     0.0    1012.8   10.0  2013-01-01T04:00:00Z  "
      ]
     },
     "metadata": {},
     "output_type": "display_data"
    }
   ],
   "source": [
    "flights = pd.read_csv('flights.csv')\n",
    "airlines = pd.read_csv('airlines.csv')\n",
    "airports = pd.read_csv('airports.csv')\n",
    "planes = pd.read_csv('planes.csv')\n",
    "weather = pd.read_csv('weather.csv')\n",
    "\n",
    "display(\"flights\")\n",
    "display(flights[0:5])\n",
    "display(\"airlines\")\n",
    "display(airlines[0:5])\n",
    "display(\"airports\")\n",
    "display(airports[0:5])\n",
    "display(\"planes\")\n",
    "display(planes[0:5])\n",
    "display(\"weather\")\n",
    "display(weather[0:5])"
   ]
  },
  {
   "cell_type": "markdown",
   "metadata": {},
   "source": [
    "**b)** Convert all temperature attributes to degree Celsius. We will be using this in what follows."
   ]
  },
  {
   "cell_type": "code",
   "execution_count": 5,
   "metadata": {},
   "outputs": [],
   "source": [
    "weather[\"temp\"] = (weather[\"temp\"] - 32) * 5/9\n",
    "weather[\"dewp\"] = (weather[\"dewp\"] - 32) * 5/9\n",
    "\n",
    "# display(weather[0:5])"
   ]
  },
  {
   "cell_type": "markdown",
   "metadata": {},
   "source": [
    "**c)** Using OLS, investigate if flight distance is associated with arrival delay. You should be cautious regarding negative delays."
   ]
  },
  {
   "cell_type": "code",
   "execution_count": 6,
   "metadata": {},
   "outputs": [
    {
     "name": "stdout",
     "output_type": "stream",
     "text": [
      "OLS\n",
      "Train data: 0.009232222182055438 \n",
      "Test data: 0.008692811927246136\n"
     ]
    }
   ],
   "source": [
    "flightdata = flights.copy(deep=True)\n",
    "flightdata[\"arr_delay\"] = flightdata[\"arr_delay\"] - flights[\"dep_delay\"] \n",
    "flightdata = flightdata.dropna()\n",
    "\n",
    "X = flightdata.loc[:,[\"distance\"]]\n",
    "y = flightdata.loc[:,[\"arr_delay\"]]\n",
    "\n",
    "X_train, X_test , y_train, y_test = train_test_split(X, y, random_state=1)\n",
    "\n",
    "ODS = LinearRegression()\n",
    "ODS.fit(X_train, y_train)\n",
    "\n",
    "print(\"OLS\\nTrain data: {} \\nTest data: {}\".format(ODS.score(X_train, y_train), ODS.score(X_test, y_test)))"
   ]
  },
  {
   "cell_type": "markdown",
   "metadata": {},
   "source": [
    "**d)** Using OLS, investigate if departure delay is associated with arrival delay. Again,\n",
    "   consider what to do with negative delays."
   ]
  },
  {
   "cell_type": "code",
   "execution_count": 7,
   "metadata": {},
   "outputs": [
    {
     "name": "stdout",
     "output_type": "stream",
     "text": [
      "OLS\n",
      "Train data: 0.7971250867807199 \n",
      "Test data: 0.7826321891385306\n"
     ]
    }
   ],
   "source": [
    "flightdata = flights.copy(deep=True)\n",
    "flightdata = flightdata.dropna()\n",
    "\n",
    "X = flightdata.loc[:,[\"dep_delay\"]]\n",
    "y = flightdata.loc[:,[\"arr_delay\"]]\n",
    "\n",
    "X_train, X_test , y_train, y_test = train_test_split(X, y, random_state=1)\n",
    "\n",
    "ODS = LinearRegression()\n",
    "ODS.fit(X_train, y_train)\n",
    "\n",
    "print(\"OLS\\nTrain data: {} \\nTest data: {}\".format(ODS.score(X_train, y_train), ODS.score(X_test, y_test)))"
   ]
  },
  {
   "cell_type": "markdown",
   "metadata": {},
   "source": [
    "**e)** Is the age of the plane associated with delay? Do OLS, Ridge and Lasso."
   ]
  },
  {
   "cell_type": "markdown",
   "metadata": {},
   "source": [
    "OLS"
   ]
  },
  {
   "cell_type": "code",
   "execution_count": 8,
   "metadata": {},
   "outputs": [
    {
     "name": "stdout",
     "output_type": "stream",
     "text": [
      "OLS dep and plane age\n",
      "Train data: 0.0005278293484642926 \n",
      "Test data: 0.0005051231206146811\n"
     ]
    }
   ],
   "source": [
    "flightdata = pd.merge(flights.copy(deep=True), planes.copy(deep=True), on=\"tailnum\")\n",
    "\n",
    "flightdata = flightdata.loc[:,[\"year_x\", \"year_y\", \"dep_delay\", \"arr_delay\"]]\n",
    "flightdata[\"plane_age\"] = flightdata[\"year_x\"] - flightdata[\"year_y\"]\n",
    "flightdata = flightdata.dropna()\n",
    "\n",
    "X = flightdata.loc[:,[\"plane_age\"]]\n",
    "y = flightdata.loc[:,[\"dep_delay\"]]\n",
    "\n",
    "X_train, X_test , y_train, y_test = train_test_split(X, y, random_state=1)\n",
    "ODS = LinearRegression()\n",
    "ODS.fit(X_train, y_train)\n",
    "\n",
    "print(\"OLS dep and plane age\\nTrain data: {} \\nTest data: {}\".format(ODS.score(X_train, y_train), ODS.score(X_test, y_test)))"
   ]
  },
  {
   "cell_type": "code",
   "execution_count": 9,
   "metadata": {},
   "outputs": [
    {
     "name": "stdout",
     "output_type": "stream",
     "text": [
      "OLS arr and plane age\n",
      "Train data: 0.00015125425051476515 \n",
      "Test data: 0.0003398893899592137\n"
     ]
    }
   ],
   "source": [
    "flightdata = pd.merge(flights.copy(deep=True), planes.copy(deep=True), on=\"tailnum\")\n",
    "\n",
    "flightdata = flightdata.loc[:,[\"year_x\", \"year_y\", \"dep_delay\", \"arr_delay\"]]\n",
    "flightdata[\"plane_age\"] = flightdata[\"year_x\"] - flightdata[\"year_y\"]\n",
    "flightdata[\"arr_delay\"] = flightdata[\"arr_delay\"] - flights[\"dep_delay\"] \n",
    "flightdata = flightdata.dropna()\n",
    "\n",
    "X = flightdata.loc[:,[\"plane_age\"]]\n",
    "y = flightdata.loc[:,[\"arr_delay\"]]\n",
    "\n",
    "X_train, X_test , y_train, y_test = train_test_split(X, y, random_state=1)\n",
    "ODS = LinearRegression()\n",
    "ODS.fit(X_train, y_train)\n",
    "\n",
    "print(\"OLS arr and plane age\\nTrain data: {} \\nTest data: {}\".format(ODS.score(X_train, y_train), ODS.score(X_test, y_test)))"
   ]
  },
  {
   "cell_type": "markdown",
   "metadata": {},
   "source": [
    "RESULT - plane age and delay time is unrelated\n"
   ]
  },
  {
   "cell_type": "code",
   "execution_count": 10,
   "metadata": {},
   "outputs": [],
   "source": [
    "flightdata = pd.merge(flights.copy(deep=True), planes.copy(deep=True), on=\"tailnum\")\n",
    "\n",
    "flightdata = flightdata.loc[:,[\"year_x\", \"year_y\", \"dep_delay\", \"arr_delay\"]]\n",
    "flightdata[\"plane_age\"] = flightdata[\"year_x\"] - flightdata[\"year_y\"]\n",
    "flightdata = flightdata.dropna()\n",
    "\n",
    "X = flightdata.loc[:,[\"plane_age\"]]\n",
    "y = flightdata.loc[:,[\"dep_delay\"]]\n",
    "\n",
    "X_train, X_test , y_train, y_test = train_test_split(X, y, random_state=1)"
   ]
  },
  {
   "cell_type": "code",
   "execution_count": 11,
   "metadata": {},
   "outputs": [
    {
     "name": "stdout",
     "output_type": "stream",
     "text": [
      "Ridge\n",
      "Train data: 0.0005276424313449546 \n",
      "Test data: 0.0005049010808814147\n"
     ]
    }
   ],
   "source": [
    "\n",
    "alphas = 10**np.linspace(-10, 10, 100)\n",
    "ridgecv = RidgeCV(alphas = alphas, normalize = True)\n",
    "ridgecv.fit(X_train, y_train)\n",
    "\n",
    "print(\"Ridge\\nTrain data: {} \\nTest data: {}\".format(ridgecv.score(X_train, y_train), ridgecv.score(X_test,y_test)))"
   ]
  },
  {
   "cell_type": "code",
   "execution_count": 12,
   "metadata": {},
   "outputs": [
    {
     "name": "stdout",
     "output_type": "stream",
     "text": [
      "Lasso\n",
      "Train data: 0.0005278288206347348 \n",
      "Test data: 0.0005051203487510536\n"
     ]
    }
   ],
   "source": [
    "lassocv = LassoCV(alphas = None, cv = 10, max_iter = 100000, normalize = True)\n",
    "lassocv.fit(X_train, y_train.values.ravel())\n",
    "\n",
    "print(\"Lasso\\nTrain data: {} \\nTest data: {}\".format(lassocv.score(X_train, y_train), lassocv.score(X_test,y_test)))"
   ]
  },
  {
   "cell_type": "markdown",
   "metadata": {},
   "source": [
    "**f)** Investigate whether departure delay is associated with weather conditions at the origin airport. This includes merging datasets in an appropriate way, considering missing values, regression modelling and plotting. For regression, do Ridge or Lasso.\n",
    "   \n",
    "The analysis should also include seasonality trends as a \"weather condition\". You could, for instance, plot the daily departure delay with the date (or month). \n",
    "\n",
    "What are the three most important weather conditions when trying to predict departure delays (you can e.g. use the function \"select_percentile\")?"
   ]
  },
  {
   "cell_type": "code",
   "execution_count": 13,
   "metadata": {},
   "outputs": [
    {
     "name": "stdout",
     "output_type": "stream",
     "text": [
      "Weather relation to departure delays\n",
      "Train data: 0.02007672221744028 \n",
      "Test data: 0.021648039246437656\n"
     ]
    },
    {
     "data": {
      "image/png": "[encoded data removed]",
      "text/plain": [
       "<Figure size 432x288 with 1 Axes>"
      ]
     },
     "metadata": {
      "needs_background": "light"
     },
     "output_type": "display_data"
    }
   ],
   "source": [
    "flightdata = pd.merge(flights.copy(deep=True), weather.copy(deep=True), on=[\"origin\", \"year\", \"month\", \"day\", \"hour\"])\n",
    "\n",
    "flightdata = flightdata.loc[:,[\"temp\", \"dewp\", \"humid\", \"wind_dir\", \"wind_speed\", \"wind_gust\", \"precip\", \"pressure\", \"visib\" ,\"dep_delay\", \"arr_delay\"]]\n",
    "\n",
    "flightdata = flightdata.dropna()\n",
    "\n",
    "X = flightdata.loc[:,[\"temp\", \"dewp\", \"humid\", \"wind_dir\", \"wind_speed\", \"wind_gust\", \"precip\", \"pressure\", \"visib\"]]\n",
    "y = flightdata.loc[:,[\"dep_delay\"]]\n",
    "\n",
    "X_train, X_test , y_train, y_test = train_test_split(X, y, random_state=1)\n",
    "\n",
    "lassocv = LassoCV(alphas = None, cv = 10, max_iter = 100000, normalize = True)\n",
    "lassocv.fit(X_train, y_train.values.ravel())\n",
    "\n",
    "print(\"Weather relation to departure delays\\nTrain data: {} \\nTest data: {}\".format(lassocv.score(X_train, y_train), lassocv.score(X_test,y_test)))\n",
    "\n",
    "# Show graph of most important parameters\n",
    "fig = plt.figure()\n",
    "ax = fig.add_axes([0,0,1,1])\n",
    "col = X.columns\n",
    "score = lassocv.coef_\n",
    "ax.bar(col,score)\n",
    "plt.show()\n"
   ]
  },
  {
   "cell_type": "code",
   "execution_count": 14,
   "metadata": {},
   "outputs": [],
   "source": [
    "#Seasonality analysis\n",
    "#Get amount of delays for each month and total flights for each month\n",
    "flightdata = pd.merge(flights.copy(deep=True), weather.copy(deep=True), on=[\"origin\", \"year\", \"month\", \"day\", \"hour\"])\n",
    "flightdata[\"dep_delay\"] = flightdata[\"dep_delay\"].apply(lambda value: 1 if value > 0 else 0)\n",
    "flightdata = flightdata.dropna()\n",
    "\n",
    "monthsNames = [\"January\", \"February\", \"March\", \"April\", \"May\", \"June\", \"July\", \"August\", \"September\", \"October\",\"November\", \"December\"]\n",
    "monthsAmountDelayed = []\n",
    "monthsAmountTotal = []\n",
    "monthsAmountPercent = []\n",
    "\n",
    "\n",
    "for x in range(0,12):\n",
    "  monthsAmountDelayed.append(0)\n",
    "  monthsAmountTotal.append(0)\n",
    "  monthsAmountPercent.append(0)\n",
    "\n",
    "for index, row in flightdata.iterrows():\n",
    "\n",
    "  if row[\"dep_delay\"] == 1:\n",
    "    monthsAmountDelayed[row[\"month\"] - 1] = monthsAmountDelayed[row[\"month\"] - 1] + 1\n",
    "\n",
    "  monthsAmountTotal[row[\"month\"] - 1] = monthsAmountTotal[row[\"month\"] - 1] + 1\n",
    "\n",
    "\n",
    "for i, data in enumerate(monthsAmountPercent):\n",
    "  monthsAmountPercent[i] = monthsAmountDelayed[i] /  monthsAmountTotal[i] * 100"
   ]
  },
  {
   "cell_type": "code",
   "execution_count": 15,
   "metadata": {},
   "outputs": [
    {
     "name": "stdout",
     "output_type": "stream",
     "text": [
      "Seasonal analysis of flight delays\n",
      "Blue - total flights\n",
      "Orange - delayed flights\n"
     ]
    },
    {
     "data": {
      "image/png": "[encoded data removed]",
      "text/plain": [
       "<Figure size 720x288 with 1 Axes>"
      ]
     },
     "metadata": {
      "needs_background": "light"
     },
     "output_type": "display_data"
    }
   ],
   "source": [
    "\n",
    "print(\"Seasonal analysis of flight delays\\nBlue - total flights\\nOrange - delayed flights\")\n",
    "x = np.arange(len(monthsNames)) \n",
    "fig = plt.figure()\n",
    "fig.set_figwidth(10)\n",
    "ax = fig.add_axes([0,0,1,1])\n",
    "col = monthsNames\n",
    "width = 0.25\n",
    "ax.bar(x - width/2, monthsAmountTotal, width, label='Total')\n",
    "ax.bar(x + width/2, monthsAmountDelayed, width, label='Delayed')\n",
    "ax.set_xticks(x)\n",
    "ax.set_xticklabels(col)\n",
    "plt.show()\n"
   ]
  },
  {
   "cell_type": "code",
   "execution_count": 16,
   "metadata": {},
   "outputs": [
    {
     "name": "stdout",
     "output_type": "stream",
     "text": [
      "Seasonal analysis of flight delays\n",
      "Shown percentage of flights missed from total that month \n"
     ]
    },
    {
     "data": {
      "image/png": "[encoded data removed]",
      "text/plain": [
       "<Figure size 720x288 with 1 Axes>"
      ]
     },
     "metadata": {
      "needs_background": "light"
     },
     "output_type": "display_data"
    }
   ],
   "source": [
    "print(\"Seasonal analysis of flight delays\\nShown percentage of flights missed from total that month \")\n",
    "fig = plt.figure()\n",
    "fig.set_figwidth(10)\n",
    "ax = fig.add_axes([0,0,1,1])\n",
    "col = monthsNames\n",
    "width = 0.50\n",
    "ax.bar(x, monthsAmountPercent, width, label='Total')\n",
    "ax.set_xticks(x)\n",
    "ax.set_xticklabels(col)\n",
    "plt.show()\n"
   ]
  },
  {
   "cell_type": "markdown",
   "metadata": {},
   "source": [
    "The data shows some results but its not enough to make conclusions"
   ]
  },
  {
   "cell_type": "markdown",
   "metadata": {},
   "source": [
    "**g)** Do a principal component analysis of the weather at JFK using the following columns:\n",
    "   temp, dewp, humid, wind_dir, wind_speed, precip, visib.\n",
    "   How many principal components should be used to capture all the variability in the weather data?"
   ]
  },
  {
   "cell_type": "code",
   "execution_count": 17,
   "metadata": {},
   "outputs": [],
   "source": [
    "weatherdata = weather.copy(deep=True)\n",
    "weatherdata = weatherdata.loc[weatherdata[\"origin\"] == \"JFK\"]\n",
    "weatherdata = weatherdata.loc[:,[\"temp\", \"dewp\", \"humid\", \"wind_dir\", \"wind_speed\", \"precip\", \"visib\"]]\n",
    "weatherdata = weatherdata.dropna()\n",
    "weatherdata.loc[:,\"temp\":\"visib\"] = StandardScaler().fit_transform(weatherdata.loc[:,\"temp\":\"visib\"])\n",
    "\n",
    "pca = PCA(n_components=None)\n",
    "pca.fit(weatherdata)\n",
    "\n",
    "transformed_data = pca.transform(weatherdata)"
   ]
  },
  {
   "cell_type": "code",
   "execution_count": 18,
   "metadata": {},
   "outputs": [
    {
     "data": {
      "image/png": "[encoded data removed]",
      "text/plain": [
       "<Figure size 432x288 with 1 Axes>"
      ]
     },
     "metadata": {
      "needs_background": "light"
     },
     "output_type": "display_data"
    }
   ],
   "source": [
    "\n",
    "per_var = np.round(pca.explained_variance_ratio_*100, decimals=1)\n",
    "labels = ['PC' + str(x) for x in range(1, len(per_var)+1)] #labels for the plot\n",
    "\n",
    "plt.bar(x=range(1, len(per_var)+1), height=per_var, tick_label=labels)\n",
    "plt.ylabel('% of variance')\n",
    "plt.xlabel(\"PC\")\n",
    "\n",
    "plt.show()"
   ]
  },
  {
   "cell_type": "markdown",
   "metadata": {},
   "source": [
    "RESULT: PC1-PC6 should be used to have all vairiance in the data."
   ]
  },
  {
   "cell_type": "markdown",
   "metadata": {},
   "source": [
    "**h)** Build regression models (OLS, Ridge and Lasso) that associates\n",
    "   an airports lattitude with weather conditions (temp, dewp, humid, wind_dir, wind_speed,\n",
    "   precip, visib). Remove all but the three most significant wheather conditions and redo\n",
    "   the analysis."
   ]
  },
  {
   "cell_type": "code",
   "execution_count": 19,
   "metadata": {},
   "outputs": [],
   "source": [
    "airportWeather = pd.merge(weather.copy(deep=True), airports.copy(deep=True), left_on='origin', right_on='faa')\n",
    "airportWeather = airportWeather.loc[:,[\"temp\", \"dewp\", \"humid\", \"wind_dir\", \"wind_speed\", \"precip\", \"visib\", \"lat\"]]\n",
    "airportWeather = airportWeather.dropna()\n",
    "\n",
    "X = airportWeather.loc[:,[\"temp\", \"dewp\", \"humid\", \"wind_dir\", \"wind_speed\", \"precip\", \"visib\"]]\n",
    "y = airportWeather.loc[:,[\"lat\"]]\n",
    "\n",
    "X_train, X_test , y_train, y_test = train_test_split(X, y, random_state=1)\n"
   ]
  },
  {
   "cell_type": "code",
   "execution_count": 20,
   "metadata": {},
   "outputs": [
    {
     "name": "stdout",
     "output_type": "stream",
     "text": [
      "Train data: 0.03285428224520015 \n",
      "Test data: 0.031942924819366114\n"
     ]
    }
   ],
   "source": [
    "\n",
    "ODS = LinearRegression()\n",
    "ODS.fit(X_train, y_train)\n",
    "\n",
    "print(\"OLS\\nTrain data: {} \\nTest data: {}\".format(ODS.score(X_train, y_train), ODS.score(X_test, y_test)))"
   ]
  },
  {
   "cell_type": "code",
   "execution_count": 21,
   "metadata": {},
   "outputs": [
    {
     "name": "stdout",
     "output_type": "stream",
     "text": [
      "Train data: 0.032839404333787736 \n",
      "Test data: 0.03214078064340964\n"
     ]
    }
   ],
   "source": [
    "alphas = 10**np.linspace(-10, 10, 100)\n",
    "ridgecv = RidgeCV(alphas = alphas, normalize = True)\n",
    "ridgecv.fit(X_train, y_train)\n",
    "\n",
    "print(\"Ridge\\nTrain data: {} \\nTest data: {}\".format(ridgecv.score(X_train, y_train), ridgecv.score(X_test,y_test)))"
   ]
  },
  {
   "cell_type": "code",
   "execution_count": 22,
   "metadata": {},
   "outputs": [
    {
     "name": "stdout",
     "output_type": "stream",
     "text": [
      "Train data: 0.03281117081766538 \n",
      "Test data: 0.032245002696982494\n"
     ]
    }
   ],
   "source": [
    "lassocv = LassoCV(alphas = None, cv = 10, max_iter = 100000, normalize = True)\n",
    "lassocv.fit(X_train, y_train.values.ravel())\n",
    "\n",
    "print(\"Lasso\\nTrain data: {} \\nTest data: {}\".format(lassocv.score(X_train, y_train), lassocv.score(X_test,y_test)))\n"
   ]
  },
  {
   "cell_type": "code",
   "execution_count": 23,
   "metadata": {},
   "outputs": [
    {
     "data": {
      "image/png": "[encoded data removed]",
      "text/plain": [
       "<Figure size 432x288 with 1 Axes>"
      ]
     },
     "metadata": {
      "needs_background": "light"
     },
     "output_type": "display_data"
    }
   ],
   "source": [
    "fig = plt.figure()\n",
    "ax = fig.add_axes([0,0,1,1])\n",
    "col = X.columns\n",
    "score = lassocv.coef_\n",
    "ax.bar(col,score)\n",
    "plt.show()"
   ]
  },
  {
   "cell_type": "markdown",
   "metadata": {},
   "source": [
    "Need to only leave \"percip\", \"temp\", \"dewp\""
   ]
  },
  {
   "cell_type": "code",
   "execution_count": 24,
   "metadata": {},
   "outputs": [],
   "source": [
    "airportWeather = pd.merge(weather.copy(deep=True), airports.copy(deep=True), left_on='origin', right_on='faa')\n",
    "airportWeather = airportWeather.loc[:,[\"temp\", \"dewp\", \"humid\", \"wind_dir\", \"wind_speed\", \"precip\", \"visib\", \"lat\"]]\n",
    "airportWeather = airportWeather.dropna()\n",
    "\n",
    "X = airportWeather.loc[:,[\"temp\", \"dewp\", \"precip\"]]\n",
    "y = airportWeather.loc[:,[\"lat\"]]\n",
    "\n",
    "X_train, X_test , y_train, y_test = train_test_split(X, y, random_state=1)\n"
   ]
  },
  {
   "cell_type": "code",
   "execution_count": 28,
   "metadata": {},
   "outputs": [
    {
     "name": "stdout",
     "output_type": "stream",
     "text": [
      "OLS\n",
      "Train data: 0.013730108806868535 \n",
      "Test data: 0.017879223286407675\n"
     ]
    }
   ],
   "source": [
    "ODS = LinearRegression()\n",
    "ODS.fit(X_train, y_train)\n",
    "\n",
    "print(\"OLS\\nTrain data: {} \\nTest data: {}\".format(ODS.score(X_train, y_train), ODS.score(X_test, y_test)))"
   ]
  },
  {
   "cell_type": "code",
   "execution_count": 30,
   "metadata": {},
   "outputs": [
    {
     "name": "stdout",
     "output_type": "stream",
     "text": [
      "Ridge\n",
      "Train data: 0.013729820227529443 \n",
      "Test data: 0.017860948166446344\n"
     ]
    }
   ],
   "source": [
    "alphas = 10**np.linspace(-10, 10, 100)\n",
    "ridgecv = RidgeCV(alphas = alphas, normalize = True)\n",
    "ridgecv.fit(X_train, y_train)\n",
    "\n",
    "print(\"Ridge\\nTrain data: {} \\nTest data: {}\".format(ridgecv.score(X_train, y_train), ridgecv.score(X_test,y_test)))"
   ]
  },
  {
   "cell_type": "code",
   "execution_count": 29,
   "metadata": {},
   "outputs": [
    {
     "name": "stdout",
     "output_type": "stream",
     "text": [
      "Lasso\n",
      "Train data: 0.013730072482028288 \n",
      "Test data: 0.017872935148575353\n"
     ]
    }
   ],
   "source": [
    "lassocv = LassoCV(alphas = None, cv = 10, max_iter = 100000, normalize = True)\n",
    "lassocv.fit(X_train, y_train.values.ravel())\n",
    "\n",
    "print(\"Lasso\\nTrain data: {} \\nTest data: {}\".format(lassocv.score(X_train, y_train), lassocv.score(X_test,y_test)))\n"
   ]
  },
  {
   "cell_type": "markdown",
   "metadata": {},
   "source": [
    " **i)** These questions require no code.\n",
    " - Suppose you are using Ridge Regression and you notice that the training error and the validation error are almost equal and fairly high. Would you say that the model suffers from high bias or high variance? Should you increase the regularization hyperparameter or reduce it?\n",
    "\n",
    "- Why would you want to use:\n",
    "        > Ridge Regression instead of plain Linear Regression (i.e. without any regularization)?\n",
    "        > Lasso instead of Ridge Regression?"
   ]
  },
  {
   "cell_type": "markdown",
   "metadata": {},
   "source": [
    "1. I would say that it suffers from high bias because it did not fit to the data. It also has very high variance because it does not fit the test data either.\n",
    "Based on that the model has high bias and a bigger regularization produces more bias, I would reduce the regularization."
   ]
  },
  {
   "cell_type": "markdown",
   "metadata": {},
   "source": [
    "2. I assume this is not related to first question\n",
    "If ridge regression is used without any regularization (aplpha=0) it the same as OLS, has the same bias as OLS. In that case it is better to choose normal OLS regression.\n",
    "Ridge regression is useful because for a slight increase in bias it has a significant decrese in variance. A slighly worse fit results in better overal predictions.\n",
    "Lasso regression removes useless variables and makes the information relation easier to interpret. Ridge regression uses all variables regardless if they are important or not.\n"
   ]
  },
  {
   "cell_type": "code",
   "execution_count": null,
   "metadata": {},
   "outputs": [],
   "source": []
  },
  {
   "cell_type": "markdown",
   "metadata": {},
   "source": [
    "# Exercise 2: PCA"
   ]
  },
  {
   "cell_type": "markdown",
   "metadata": {},
   "source": [
    "This exercise will depart from the equally famous mnist dataset, which is loaded from the file \"mnist-original\" below."
   ]
  },
  {
   "cell_type": "code",
   "execution_count": 25,
   "metadata": {},
   "outputs": [
    {
     "name": "stdout",
     "output_type": "stream",
     "text": [
      "Number of datapoints: 70000\n",
      "\n",
      "Number of features: 784\n",
      "\n",
      "List of labels: [0. 1. 2. 3. 4. 5. 6. 7. 8. 9.]\n",
      "\n"
     ]
    }
   ],
   "source": [
    "from scipy.io import loadmat\n",
    "mnist = loadmat('mnist-original')\n",
    "mnist_data = mnist[\"data\"].T\n",
    "mnist_label = mnist[\"label\"][0]\n",
    "import numpy as np\n",
    "print(\"Number of datapoints: {}\\n\".format(mnist_data.shape[0]))\n",
    "print(\"Number of features: {}\\n\".format(mnist_data.shape[1]))\n",
    "print(\"List of labels: {}\\n\".format(np.unique(mnist_label)))"
   ]
  },
  {
   "cell_type": "markdown",
   "metadata": {},
   "source": [
    "There are 70,000 images, and each image has 784 features. This is because each image is 28×28 pixels,\n",
    "and each feature simply represents one pixel’s intensity, from 0 (white) to 255 (black). Let’s take a peek at one digit from the dataset. All you need to do is grab an instance’s feature vector, reshape it to a 28×28 array, and display it using Matplotlib’s `imshow()` function:"
   ]
  },
  {
   "cell_type": "code",
   "execution_count": 26,
   "metadata": {},
   "outputs": [
    {
     "name": "stdout",
     "output_type": "stream",
     "text": [
      "Value of datapoint no. 4:\n",
      "[  0   0   0   0   0   0   0   0   0   0   0   0   0   0   0   0   0   0\n",
      "   0   0   0   0   0   0   0   0   0   0   0   0   0   0   0   0   0   0\n",
      "   0   0   0   0   0   0   0   0   0   0   0   0   0   0   0   0   0   0\n",
      "   0   0   0   0   0   0   0   0   0   0   0   0   0   0   0   0   0   0\n",
      "   0   0   0   0   0   0   0   0   0   0   0   0   0   0   0   0   0   0\n",
      "   0   0   0   0   0   0   0   0   0   0   0   0   0   0   0   0   0   0\n",
      "   0   0   0   0   0   0   0   0   0   0   0   0   0   0   0   0   0   0\n",
      "   0   0   0   0   0   0   0   0   0   0   0   0   0   0   0   0   0   0\n",
      "   0   0   0   0   0   0   0   0   0  46 105 254 254 254 254 255 239  41\n",
      "   0   0   0   0   0   0   0   0   0   0   0   0   0   0   0   0   0  37\n",
      " 118 222 254 253 253 253 253 253 253 211  54   0   0   0   0   0   0   0\n",
      "   0   0   0   0   0   0   0   0  14 200 253 253 254 253 253 253 253 253\n",
      " 253 253 116   0   0   0   0   0   0   0   0   0   0   0   0   0  16 160\n",
      " 236 253 253 253 254 253 253 246 229 253 253 253 116   0   0   0   0   0\n",
      "   0   0   0   0   0   0   0   0  99 253 253 253 253 253 254 253 253 213\n",
      "  99 253 253 253 116   0   0   0   0   0   0   0   0   0   0   0   0  25\n",
      " 194 253 253 253 253 131  97 169 253  93  99 253 253 253 116   0   0   0\n",
      "   0   0   0   0   0   0   0   0   0 206 253 253 251 233 127   9   0  18\n",
      "  38   3  15 171 253 253 116   0   0   0   0   0   0   0   0   0   0   0\n",
      "  55 240 253 253 233   0   0   0   0   0   0   0  31 186 253 253 116   0\n",
      "   0   0   0   0   0   0   0   0   0   0 176 253 253 253 127   0   0   0\n",
      "   0   0   0   0  99 253 253 253 116   0   0   0   0   0   0   0   0   0\n",
      "   0   0 176 253 253 131   9   0   0   0   0   0   0   0  99 253 253 253\n",
      " 116   0   0   0   0   0   0   0   0   0   0 119 254 254 232  75   0   0\n",
      "   0   0   0   0   0   0   0 158 254 254 117   0   0   0   0   0   0   0\n",
      "   0   0   0 118 253 253 154   0   0   0   0   0   0   0   0   0   0 156\n",
      " 253 253 116   0   0   0   0   0   0   0   0   0   0 118 253 253 154   0\n",
      "   0   0   0   0   0   0   0   0   0 156 253 253 116   0   0   0   0   0\n",
      "   0   0   0   0  46 222 253 253 154   0   0   0   0   0   0   0   0   7\n",
      " 116 246 253 180   9   0   0   0   0   0   0   0   0   0   0 118 253 253\n",
      " 154   0   0   0   0   0   0   0   0 116 253 253 253 174   0   0   0   0\n",
      "   0   0   0   0   0   0   0 118 253 253 154   0   0   0   0   0   0   0\n",
      " 110 246 253 253 240  67   0   0   0   0   0   0   0   0   0   0   0 118\n",
      " 253 253 238 215  49  20  20  20  66 215 241 253 245 233  64   0   0   0\n",
      "   0   0   0   0   0   0   0   0   0  82 229 253 253 253 253 253 253 253\n",
      " 254 253 253 240 107   0   0   0   0   0   0   0   0   0   0   0   0   0\n",
      "   0   0 176 253 253 253 253 253 253 253 254 253 253 108   0   0   0   0\n",
      "   0   0   0   0   0   0   0   0   0   0   0   0  40 239 253 253 253 253\n",
      " 253 253 254 161  57   4   0   0   0   0   0   0   0   0   0   0   0   0\n",
      "   0   0   0   0   0   0   0   0   0   0   0   0   0   0   0   0   0   0\n",
      "   0   0   0   0   0   0   0   0   0   0   0   0   0   0   0   0   0   0\n",
      "   0   0   0   0   0   0   0   0   0   0   0   0   0   0   0   0   0   0\n",
      "   0   0   0   0   0   0   0   0   0   0   0   0   0   0   0   0   0   0\n",
      "   0   0   0   0   0   0   0   0   0   0]\n",
      "\n",
      "As image:\n",
      "\n"
     ]
    },
    {
     "data": {
      "image/png": "[encoded data removed]",
      "text/plain": [
       "<Figure size 432x288 with 1 Axes>"
      ]
     },
     "metadata": {
      "needs_background": "light"
     },
     "output_type": "display_data"
    }
   ],
   "source": [
    "%matplotlib inline\n",
    "import matplotlib.pyplot as plt\n",
    "index = 4\n",
    "print(\"Value of datapoint no. {}:\\n{}\\n\".format(index,mnist_data[index]))\n",
    "print(\"As image:\\n\")\n",
    "plt.imshow(mnist_data[index].reshape(28,28),cmap=plt.cm.gray_r)\n",
    "plt.show()"
   ]
  },
  {
   "cell_type": "markdown",
   "metadata": {},
   "source": [
    "**a)** Split the MNIST dataset into a training set and a test set. Use 60,000 instances for training and 10,000 for test."
   ]
  },
  {
   "cell_type": "markdown",
   "metadata": {},
   "source": [
    "**b)** Train a Random Forest classifier on the dataset and time how long it takes.\n",
    "   Then evaluate the resulting model on the test set (disregarding \"don't use test set\")"
   ]
  },
  {
   "cell_type": "markdown",
   "metadata": {},
   "source": [
    "**c)** Use PCA to reduce the dataset’s dimensionality, with an explained variance ratio of 95%."
   ]
  },
  {
   "cell_type": "markdown",
   "metadata": {},
   "source": [
    "**d)** Train a new Random Forest classifier on the reduced dataset and see how long it takes.\n",
    "   Was training much faster? Next evaluate the classifier on the test set: how does it\n",
    "   compare to the previous classifier?"
   ]
  },
  {
   "cell_type": "markdown",
   "metadata": {},
   "source": [
    "**e)** Using at least two other classifiers from the curriculum, train a model on the reduced dataset. For each model, you must tune at least two hyperparameters."
   ]
  },
  {
   "cell_type": "markdown",
   "metadata": {},
   "source": [
    "**f)** Use PCA to reduce the MNIST dataset down to two dimensions and plot the result using\n",
    "   Matplotlib. You can use a scatterplot using 10 different colors to represent each image’s\n",
    "   target class. Alternatively, you can write colored digits at the location of each instance. You can see examples in the course book pp. 165-166.\n",
    "   \n",
    "   Which digits do you think would be easiest to distinguish using only two principal components? Which would be hard?"
   ]
  },
  {
   "cell_type": "markdown",
   "metadata": {},
   "source": [
    "**g)** These questions require no code.\n",
    " - What are the main motivations for reducing a dataset’s dimensionality? What are the main drawbacks?\n",
    "\n",
    " - Once a dataset’s dimensionality has been reduced, is it possible to reverse the operation? If so, how? If not, why?"
   ]
  },
  {
   "cell_type": "markdown",
   "metadata": {},
   "source": [
    "# Exercise 3: Cluster Analysis"
   ]
  },
  {
   "cell_type": "markdown",
   "metadata": {},
   "source": [
    "For this exercise we return to the MNIST data, and we are exploring several clustering techniques with it."
   ]
  },
  {
   "cell_type": "markdown",
   "metadata": {},
   "source": [
    "**a)** Perform k-means clustering with k=10 on this dataset."
   ]
  },
  {
   "cell_type": "markdown",
   "metadata": {},
   "source": [
    "**b)** Plot the images corresponding to the cluster centers. Do the clusters (roughly) coincide with the 10 different actual digits? Investigate which clusters a few different digits from the dataset are assigned to. "
   ]
  },
  {
   "cell_type": "markdown",
   "metadata": {},
   "source": [
    "**c)** Perform a supervised clustering evaluation using adjusted rand index (described on page 191-193 of the book).\n",
    "   Are the results stable when you perform several random restarts of k-means?\n",
    "   Note: you can speed up fitting by using MiniBatchKMeans instead of \"regular\" KMeans."
   ]
  },
  {
   "cell_type": "markdown",
   "metadata": {},
   "source": [
    "**d)** Now perform hierarchical clustering on the data.\n",
    "   (in order to improve visibility in the constructed dendrograms, you can use a\n",
    "   much reduced dataset as constructed using sklearn.utils.resample shown below).\n",
    "   Does the visual analysis of the dendrogram indicate a natural number of clusters?"
   ]
  },
  {
   "cell_type": "code",
   "execution_count": 27,
   "metadata": {},
   "outputs": [
    {
     "ename": "AttributeError",
     "evalue": "'dict' object has no attribute 'data'",
     "output_type": "error",
     "traceback": [
      "\u001b[1;31m---------------------------------------------------------------------------\u001b[0m",
      "\u001b[1;31mAttributeError\u001b[0m                            Traceback (most recent call last)",
      "\u001b[1;32m~\\AppData\\Local\\Temp/ipykernel_12620/1395335808.py\u001b[0m in \u001b[0;36m<module>\u001b[1;34m\u001b[0m\n\u001b[0;32m      1\u001b[0m \u001b[1;32mfrom\u001b[0m \u001b[0msklearn\u001b[0m\u001b[1;33m.\u001b[0m\u001b[0mutils\u001b[0m \u001b[1;32mimport\u001b[0m \u001b[0mresample\u001b[0m\u001b[1;33m\u001b[0m\u001b[1;33m\u001b[0m\u001b[0m\n\u001b[1;32m----> 2\u001b[1;33m \u001b[0msmall_mnist_data\u001b[0m\u001b[1;33m,\u001b[0m\u001b[0msmall_mnist_label\u001b[0m \u001b[1;33m=\u001b[0m \u001b[0mresample\u001b[0m\u001b[1;33m(\u001b[0m\u001b[0mmnist\u001b[0m\u001b[1;33m.\u001b[0m\u001b[0mdata\u001b[0m\u001b[1;33m,\u001b[0m\u001b[0mmnist\u001b[0m\u001b[1;33m.\u001b[0m\u001b[0mtarget\u001b[0m\u001b[1;33m,\u001b[0m\u001b[0mn_samples\u001b[0m\u001b[1;33m=\u001b[0m\u001b[1;36m200\u001b[0m\u001b[1;33m,\u001b[0m\u001b[0mreplace\u001b[0m\u001b[1;33m=\u001b[0m\u001b[1;34m'false'\u001b[0m\u001b[1;33m)\u001b[0m\u001b[1;33m\u001b[0m\u001b[1;33m\u001b[0m\u001b[0m\n\u001b[0m",
      "\u001b[1;31mAttributeError\u001b[0m: 'dict' object has no attribute 'data'"
     ]
    }
   ],
   "source": [
    "from sklearn.utils import resample\n",
    "small_mnist_data,small_mnist_label = resample(mnist.data,mnist.target,n_samples=200,replace='false')"
   ]
  },
  {
   "cell_type": "markdown",
   "metadata": {},
   "source": [
    "**e)** Using different cluster distance metrics (ward,single,average, etc.),\n",
    "   what do the clusterings look like that are produced at the level of k=10 clusters?"
   ]
  },
  {
   "cell_type": "markdown",
   "metadata": {},
   "source": [
    "**f)** Do a DBSCAN clustering of the small dataset. Tweak the different parameters."
   ]
  },
  {
   "cell_type": "markdown",
   "metadata": {},
   "source": [
    "**g)** Try to compare the different clustering methods on the MNIST dataset in the same way\n",
    "   the book does on the faces dataset on pp. 195-206."
   ]
  }
 ],
 "metadata": {
  "kernelspec": {
   "display_name": "Python 3",
   "language": "python",
   "name": "python3"
  },
  "language_info": {
   "codemirror_mode": {
    "name": "ipython",
    "version": 3
   },
   "file_extension": ".py",
   "mimetype": "text/x-python",
   "name": "python",
   "nbconvert_exporter": "python",
   "pygments_lexer": "ipython3",
   "version": "3.9.7"
  }
 },
 "nbformat": 4,
 "nbformat_minor": 2
}
